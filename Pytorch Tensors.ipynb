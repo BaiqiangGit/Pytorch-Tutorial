{
 "cells": [
  {
   "cell_type": "markdown",
   "metadata": {},
   "source": [
    "## [Pytorch Tensors](https://pytorch.org/docs/0.4.0/torch.html#tensors)"
   ]
  },
  {
   "cell_type": "markdown",
   "metadata": {},
   "source": [
    "### [Tensor Attributes](https://pytorch.org/docs/stable/tensor_attributes.html#tensor-attributes)\n",
    "\n",
    "    torch.dtype\n",
    "    torch.device\n",
    "    torch.layout\n",
    "    \n",
    "    To change an existing tensor’s torch.device and/or torch.dtype, consider using to() method on the tensor."
   ]
  },
  {
   "cell_type": "markdown",
   "metadata": {},
   "source": [
    "##### [8 different data/tensor types]():\n",
    "    \n",
    "    Data type \t                dtype(syntax)                     Tensor types (CPU/GPU)\n",
    "\n",
    "    FLOATS:\n",
    "    32-bit floating point \t    torch.float32 or torch.float \t torch.(cuda.)FloatTensor\n",
    "    64-bit floating point \t    torch.float64 or torch.double \ttorch.(cuda.)DoubleTensor\n",
    "    16-bit floating point \t    torch.float16 or torch.half \t  torch.(cuda.)HalfTensor\n",
    "    \n",
    "    INTS:\n",
    "    8-bit integer (unsigned) \t torch.uint8 \t                  torch.(cuda.)ByteTensor\n",
    "    8-bit integer (signed) \t   torch.int8 \t                   torch.(cuda.)CharTensor\n",
    "    16-bit integer (signed) \t  torch.int16 or torch.short    \ttorch.(cuda.)ShortTensor\n",
    "    32-bit integer (signed) \t  torch.int32 or torch.int \t     torch.(cuda.)IntTensor\n",
    "    64-bit integer (signed) \t  torch.int64 or torch.long \t    torch.(cuda.)LongTensor"
   ]
  },
  {
   "cell_type": "markdown",
   "metadata": {},
   "source": [
    "##### [Config tensor's device]()\n",
    "\n",
    "- via string: torch.device('cuda'), torch.device('cpu'), torch.device('cuda:0'), torch.device('cpu:0')\n",
    "- via string + ordinal: torch.device('cuda', 0), torch.device('cpu', 0)\n",
    "- via ordinal (gpu only): torch.device(1) "
   ]
  },
  {
   "cell_type": "markdown",
   "metadata": {},
   "source": [
    "### [Tensor Constructor](https://pytorch.org/docs/0.4.0/torch.html#torch.tensor)\n",
    "\n",
    "- torch.tensor(data, dtype=None, device=None, requires_grad=False)\n",
    "- torch.from_numpy(ndarray)\n",
    "\n",
    "\n",
    "- torch.zeros(*sizes, out=None, dtype=None, layout=torch.strided, device=None, requires_grad=False)\n",
    "- torch.zeros_like(input, dtype=None, layout=None, device=None, requires_grad=False)\n",
    "\n",
    "\n",
    "- torch.ones(*sizes, out=None, dtype=None, layout=torch.strided, device=None, requires_grad=False) \n",
    "- torch.ones_like(input, dtype=None, layout=None, device=None, requires_grad=False)\n",
    "\n",
    "\n",
    "- torch.arange(start=0, end, step=1, out=None, dtype=None, layout=torch.strided, device=None, requires_grad=False)\n",
    "- torch.linspace(start, end, steps=100, out=None, dtype=None, layout=torch.strided, device=None, requires_grad=False)\n",
    "- torch.logspace(start, end, steps=100, out=None, dtype=None, layout=torch.strided, device=None, requires_grad=False)\n",
    "\n",
    "\n",
    "- torch.eye(n, m=None, out=None, dtype=None, layout=torch.strided, device=None, requires_grad=False) \n",
    "- torch.empty(*sizes, out=None, dtype=None, layout=torch.strided, device=None, requires_grad=False)\n",
    "- torch.empty_like(input, dtype=None, layout=None, device=None, requires_grad=False) \n",
    "- torch.full(size, fill_value, out=None, dtype=None, layout=torch.strided, device=None, requires_grad=False) \n",
    "- torch.full_like(input, fill_value, out=None, dtype=None, layout=torch.strided, device=None, requires_grad=False) \n"
   ]
  },
  {
   "cell_type": "code",
   "execution_count": 138,
   "metadata": {},
   "outputs": [
    {
     "name": "stdout",
     "output_type": "stream",
     "text": [
      "randint X dtype: torch.int64 (by default)\n",
      "randint X device: cuda:0\n"
     ]
    }
   ],
   "source": [
    "import torch\n",
    "import numpy as np\n",
    "## randint tensor example\n",
    "X = torch.randint(low = 0, high = 100, size = (12,12,12), device = 'cuda:0')\n",
    "print('randint X dtype:',X.dtype, '(by default)')\n",
    "print('randint X device:',X.device)"
   ]
  },
  {
   "cell_type": "markdown",
   "metadata": {},
   "source": [
    "\n",
    "### [Random Tensor Constructor]()\n",
    "\n",
    "###### Tensor from a uniform distribution on the interval [0,1)\n",
    "\n",
    "- torch.rand(*sizes, out=None, dtype=None, layout=torch.strided, device=None, requires_grad=False)\n",
    "- torch.rand_like(input, dtype=None, layout=None, device=None, requires_grad=False)\n",
    "\n",
    "###### Tensor of random integers generated uniformly between low (inclusive) and high (exclusive)\n",
    "\n",
    "- torch.randint(low=0, high, size, out=None, dtype=None, layout=torch.strided, device=None, requires_grad=False) \n",
    "- torch.randint_like(input, low=0, high, dtype=None, layout=torch.strided, device=None, requires_grad=False)\n",
    "\n",
    "###### Tensor from standard normal distribution X ~ N(0, 1)\n",
    "\n",
    "- torch.randn(*sizes, out=None, dtype=None, layout=torch.strided, device=None, requires_grad=False)\n",
    "- torch.randn_like(input, dtype=None, layout=None, device=None, requires_grad=False)\n",
    "\n",
    "###### Random permutation of integers from 0 to n - 1\n",
    "\n",
    "- torch.randperm(n, out=None, dtype=torch.int64, layout=torch.strided, device=None, requires_grad=False)\n"
   ]
  },
  {
   "cell_type": "code",
   "execution_count": 155,
   "metadata": {
    "scrolled": true
   },
   "outputs": [
    {
     "name": "stdout",
     "output_type": "stream",
     "text": [
      "tensor([[ 0.6982, -0.3148, -1.9444,  0.9687,  0.0814]], device='cuda:0')\n",
      "tensor([[0.5432, 0.2185, 0.3834, 0.3720, 0.5374]], device='cuda:0')\n",
      "torch.Size([824016])\n"
     ]
    }
   ],
   "source": [
    "print(torch.randn(1, 5).to('cuda:0')) ## random numbers X ~ N(0, 1)\n",
    "print(torch.rand(1, 5).to('cuda:0')) ## random numbers from uniform [0,1)\n",
    "print(torch.cuda.random.get_rng_state().shape)"
   ]
  },
  {
   "cell_type": "markdown",
   "metadata": {},
   "source": [
    "### [High Level Untils](https://pytorch.org/docs/0.4.0/torch.html#torch.is_tensor)\n",
    "\n",
    "Check if it's tensor object:\n",
    "\n",
    "- torch.is_tensor(obj): Returns True if obj is a PyTorch tensor\n",
    "\n",
    "Check if it's storage object:\n",
    "\n",
    "- torch.is_storage(obj): Returns True if obj is a PyTorch storage object\n",
    "\n",
    "Set/Check data type of Tensor:\n",
    "\n",
    "- torch.set_default_dtype(d): Sets the default floating point dtype (torch.float32) to d\n",
    "- torch.get_default_dtype(): Get the current default floating point torch.dtype\n",
    "\n",
    "Set default tensor type:\n",
    "- torch.set_default_tensor_type(t): Sets the default torch.Tensor type (torch.FloatTensor) to floating point tensor type t (e.g torch.DoubleTensor). \n",
    "\n",
    "Check number of elements:\n",
    "- torch.numel(input): Returns the total number of elements in the input tensor.\n",
    "\n",
    "Set print options:\n",
    "- torch.set_printoptions(precision=None, threshold=None, edgeitems=None, linewidth=None, profile=None) Set options for printing.\n",
    "\n",
    "Set denormal support:\n",
    "\n",
    "- torch.set_flush_denormal(mode): Disables denormal floating numbers on CPU."
   ]
  },
  {
   "cell_type": "code",
   "execution_count": 139,
   "metadata": {},
   "outputs": [
    {
     "name": "stdout",
     "output_type": "stream",
     "text": [
      "X is tensor: True\n",
      "X is storage: False\n",
      "default dtype: torch.float32\n",
      "default dtype now: torch.float64\n",
      "default tensor type: torch.FloatTensor (depends on input data)\n",
      "default tensor type: torch.LongTensor (depends on input data)\n"
     ]
    }
   ],
   "source": [
    "print('X is tensor:', torch.is_tensor(X))\n",
    "print('X is storage:', torch.is_storage(X))\n",
    "print('default dtype:', torch.get_default_dtype())\n",
    "torch.set_default_dtype(torch.double)\n",
    "print('default dtype now:', torch.get_default_dtype())\n",
    "torch.set_default_dtype(torch.float)\n",
    "print('default tensor type:', torch.tensor([1.]).type(), '(depends on input data)')\n",
    "print('default tensor type:', torch.tensor([12]).type(), '(depends on input data)')"
   ]
  },
  {
   "cell_type": "markdown",
   "metadata": {},
   "source": [
    "#### [Note]()\n",
    "torch.tensor() always copies data, to change requires_grad flag without copying, use requires_grad_() or detach(). If data is numpy, use torch.as_tensor()."
   ]
  },
  {
   "cell_type": "code",
   "execution_count": 140,
   "metadata": {},
   "outputs": [
    {
     "name": "stdout",
     "output_type": "stream",
     "text": [
      "140192135263304\n",
      "140192134801728\n"
     ]
    }
   ],
   "source": [
    "A = [[1., -1.], [1., -1.]]\n",
    "B = np.random.randn(1,5)\n",
    "print(id(A))\n",
    "print(id(B))"
   ]
  },
  {
   "cell_type": "code",
   "execution_count": 141,
   "metadata": {},
   "outputs": [
    {
     "name": "stdout",
     "output_type": "stream",
     "text": [
      "Copy makes new objects:\n",
      "140192253292832\n",
      "140192252987648\n"
     ]
    }
   ],
   "source": [
    "tA= torch.tensor(A, requires_grad = True, device = 'cuda:0')\n",
    "tB= torch.tensor(B, dtype = torch.half, device = 'cpu:0')\n",
    "print('Copy makes new objects:')\n",
    "print(id(tA))\n",
    "print(id(tB))\n"
   ]
  },
  {
   "cell_type": "code",
   "execution_count": 142,
   "metadata": {},
   "outputs": [
    {
     "name": "stdout",
     "output_type": "stream",
     "text": [
      "Still making new objects:\n",
      "140192253588680\n",
      "140192253294704\n"
     ]
    }
   ],
   "source": [
    "tA1 = tA.clone().detach().requires_grad_(False)\n",
    "tB1 = torch.as_tensor(B)\n",
    "print('Still making new objects:')\n",
    "print(id(tA1))\n",
    "print(id(tB1))"
   ]
  },
  {
   "cell_type": "code",
   "execution_count": null,
   "metadata": {},
   "outputs": [],
   "source": []
  }
 ],
 "metadata": {
  "kernelspec": {
   "display_name": "Python 3",
   "language": "python",
   "name": "python3"
  },
  "language_info": {
   "codemirror_mode": {
    "name": "ipython",
    "version": 3
   },
   "file_extension": ".py",
   "mimetype": "text/x-python",
   "name": "python",
   "nbconvert_exporter": "python",
   "pygments_lexer": "ipython3",
   "version": "3.6.5"
  }
 },
 "nbformat": 4,
 "nbformat_minor": 2
}
